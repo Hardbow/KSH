{
 "cells": [
  {
   "cell_type": "code",
   "execution_count": 1,
   "metadata": {},
   "outputs": [],
   "source": [
    "import pandas as pd\n",
    "import numpy as np\n",
    "import matplotlib.pyplot as plt\n",
    "from scipy.special import ndtr as ndtr #Gaussian cumulative distribution function\n",
    "from scipy import stats\n",
    "%matplotlib inline"
   ]
  },
  {
   "cell_type": "markdown",
   "metadata": {},
   "source": [
    "#### Calculate z-score"
   ]
  },
  {
   "cell_type": "code",
   "execution_count": 128,
   "metadata": {},
   "outputs": [
    {
     "data": {
      "text/plain": [
       "array([32.01542092, 30.39666987, 42.75142285, 41.72976624, 35.66602667,\n",
       "       49.1519223 , 43.88349849, 43.23645307, 35.99477914, 45.14238288,\n",
       "       29.92100593, 40.95496664, 46.70901189, 42.7388382 , 46.12493542,\n",
       "       34.31671771, 38.11068282, 33.2431925 , 37.51830214, 43.18238565,\n",
       "       47.83964588, 40.24787998, 30.95562571, 44.4008073 , 37.95020702,\n",
       "       40.00541516, 40.8178307 , 46.0277552 , 35.45088804, 47.77442259,\n",
       "       35.64971527, 44.75829977, 51.9641673 , 36.81652761, 37.19044619,\n",
       "       46.93226569, 48.85611839, 42.5971731 , 41.72627776, 36.34607521,\n",
       "       35.59884412, 34.83961268, 39.02145315, 45.45599317, 30.0000291 ,\n",
       "       42.0694532 , 39.37082767, 33.79227001, 47.912648  , 35.03060222,\n",
       "       39.68546448, 38.07122556, 40.30315951, 44.58231181, 32.93817504,\n",
       "       34.46796463, 43.77593883, 41.95214157, 45.42825648, 33.55979903,\n",
       "       43.85918564, 36.61657376, 29.90779209, 45.79300438, 48.43710497,\n",
       "       41.07743073, 47.84355974, 43.40586191, 34.33883336, 39.85974965,\n",
       "       43.45545471, 31.67767935, 38.38712787, 45.88098036, 36.14016102,\n",
       "       39.21674064, 49.86387579, 39.25810391, 39.56740341, 44.75158389,\n",
       "       43.79632887, 39.95996599, 43.40310118, 37.51716831, 46.53721433,\n",
       "       40.03323992, 46.82124392, 47.40950457, 42.3811808 , 43.48498379,\n",
       "       41.06207268, 50.77211815, 38.69327508, 44.57845897, 41.22669645,\n",
       "       41.69212726, 41.97445815, 35.76551727, 38.7063553 , 37.18148721])"
      ]
     },
     "execution_count": 128,
     "metadata": {},
     "output_type": "execute_result"
    }
   ],
   "source": [
    "a = np.random.normal(40, 5, 100)\n",
    "a"
   ]
  },
  {
   "cell_type": "code",
   "execution_count": 130,
   "metadata": {},
   "outputs": [
    {
     "data": {
      "text/plain": [
       "array([-1.66247977, -1.9733267 ,  0.39914253,  0.20295497, -0.96145808,\n",
       "        1.6282232 ,  0.61653374,  0.49228234, -0.89832811,  0.85827588,\n",
       "       -2.06466791,  0.05417108,  1.15911388,  0.39672592,  1.04695434,\n",
       "       -1.22056435, -0.49201352, -1.42671218, -0.60576771,  0.48189983,\n",
       "        1.37622824, -0.08160997, -1.86599104,  0.71587196, -0.52282951,\n",
       "       -0.12817022,  0.02783702,  1.02829293, -1.0027709 ,  1.36370349,\n",
       "       -0.96459034,  0.78452084,  2.16825542, -0.74052868, -0.66872552,\n",
       "        1.20198505,  1.57142031,  0.36952213,  0.20228508, -0.83086912,\n",
       "       -0.97435907, -1.12015342, -0.31711933,  0.91849811, -2.04949318,\n",
       "        0.26818467, -0.25002933, -1.32127345,  1.39024676, -1.08347791,\n",
       "       -0.18960998, -0.49959045, -0.07099471,  0.75072607, -1.48528434,\n",
       "       -1.19152057,  0.59587918,  0.24565745,  0.91317187, -1.36591459,\n",
       "        0.61186497, -0.77892559, -2.06720535,  0.98321399,  1.49095764,\n",
       "        0.07768772,  1.37697982,  0.52481373, -1.21631751, -0.1561422 ,\n",
       "        0.53433698, -1.7273359 , -0.43892809,  1.00010792, -0.87041059,\n",
       "       -0.27961849,  1.76493882, -0.27167555, -0.21228112,  0.78323119,\n",
       "        0.59979465, -0.13689777,  0.52428359, -0.60598544,  1.12612379,\n",
       "       -0.12282706,  1.18066567,  1.2936287 ,  0.32804537,  0.54000741,\n",
       "        0.07473853,  1.93934758, -0.38013899,  0.74998621,  0.10635105,\n",
       "        0.1957272 ,  0.24994288, -0.94235301, -0.37762721, -0.6704459 ])"
      ]
     },
     "execution_count": 130,
     "metadata": {},
     "output_type": "execute_result"
    }
   ],
   "source": [
    "b = stats.zscore(a, ddof=1)\n",
    "b"
   ]
  },
  {
   "cell_type": "code",
   "execution_count": null,
   "metadata": {},
   "outputs": [],
   "source": []
  },
  {
   "cell_type": "code",
   "execution_count": null,
   "metadata": {},
   "outputs": [],
   "source": []
  },
  {
   "cell_type": "code",
   "execution_count": null,
   "metadata": {},
   "outputs": [],
   "source": []
  },
  {
   "cell_type": "markdown",
   "metadata": {},
   "source": [
    "### Find outliers"
   ]
  },
  {
   "cell_type": "code",
   "execution_count": 86,
   "metadata": {},
   "outputs": [],
   "source": [
    "mu, sigma = 50, 10\n",
    "s = np.random.normal(mu, sigma, 100)"
   ]
  },
  {
   "cell_type": "code",
   "execution_count": 87,
   "metadata": {},
   "outputs": [
    {
     "data": {
      "text/plain": [
       "(100, array([57.81080096, 36.97487011, 66.12376344, 41.46955904, 58.68819477,\n",
       "        54.46183533, 50.9891789 , 52.89327195, 42.4309051 , 48.39347691,\n",
       "        69.24688961, 45.28693077, 53.44090144, 47.72283223, 59.52180422,\n",
       "        68.16507805, 49.82592369, 73.06197979, 65.27516818, 33.41783482,\n",
       "        29.34124263, 54.36527553, 47.47978172, 31.09800021, 55.08355583,\n",
       "        47.33594915, 59.77168646, 60.38272021, 56.38815067, 67.57165562,\n",
       "        43.48874981, 45.12735921, 53.6503669 , 65.79088832, 57.65028113,\n",
       "        59.07739609, 61.84622261, 37.33239092, 60.77875757, 57.23647621,\n",
       "        51.78366439, 73.37478562, 36.71160455, 63.51153276, 53.99830893,\n",
       "        49.3660677 , 52.21059415, 56.02031129, 55.42838778, 47.31924383,\n",
       "        32.66728774, 60.03410116, 43.90291883, 66.7872326 , 52.64808202,\n",
       "        29.24482318, 53.8787918 , 53.78348679, 45.13240839, 42.76586416,\n",
       "        54.77586755, 54.66773643, 68.06612647, 69.02966141, 61.09664646,\n",
       "        35.69513273, 39.10046364, 56.02102757, 53.88869677, 64.64727218,\n",
       "        66.78918325, 55.91093505, 46.5318485 , 49.25716732, 64.39233023,\n",
       "        44.13967558, 38.89423105, 49.76497316, 39.24882737, 45.452568  ,\n",
       "        51.15442461, 44.37558013, 45.17950321, 43.69227586, 29.78259116,\n",
       "        42.34680721, 55.92864526, 50.91515405, 55.2268846 , 55.02823053,\n",
       "        64.5207623 , 50.21870838, 48.41374671, 58.97647135, 28.56041434,\n",
       "        61.81567978, 55.04527441, 51.11543477, 57.62763972, 64.94617997]))"
      ]
     },
     "execution_count": 87,
     "metadata": {},
     "output_type": "execute_result"
    }
   ],
   "source": [
    "len(s), s[:100]"
   ]
  },
  {
   "cell_type": "code",
   "execution_count": 88,
   "metadata": {},
   "outputs": [
    {
     "data": {
      "image/png": "[encoded data removed]",
      "text/plain": [
       "<Figure size 432x288 with 1 Axes>"
      ]
     },
     "metadata": {
      "needs_background": "light"
     },
     "output_type": "display_data"
    }
   ],
   "source": [
    "plt.hist(s);"
   ]
  },
  {
   "cell_type": "code",
   "execution_count": 93,
   "metadata": {},
   "outputs": [],
   "source": [
    "s[85], s[15] = 120, -120"
   ]
  },
  {
   "cell_type": "code",
   "execution_count": 94,
   "metadata": {},
   "outputs": [
    {
     "data": {
      "text/html": [
       "<div>\n",
       "<style scoped>\n",
       "    .dataframe tbody tr th:only-of-type {\n",
       "        vertical-align: middle;\n",
       "    }\n",
       "\n",
       "    .dataframe tbody tr th {\n",
       "        vertical-align: top;\n",
       "    }\n",
       "\n",
       "    .dataframe thead th {\n",
       "        text-align: right;\n",
       "    }\n",
       "</style>\n",
       "<table border=\"1\" class=\"dataframe\">\n",
       "  <thead>\n",
       "    <tr style=\"text-align: right;\">\n",
       "      <th></th>\n",
       "      <th>Data</th>\n",
       "    </tr>\n",
       "  </thead>\n",
       "  <tbody>\n",
       "    <tr>\n",
       "      <th>0</th>\n",
       "      <td>57.810801</td>\n",
       "    </tr>\n",
       "    <tr>\n",
       "      <th>1</th>\n",
       "      <td>36.974870</td>\n",
       "    </tr>\n",
       "    <tr>\n",
       "      <th>2</th>\n",
       "      <td>66.123763</td>\n",
       "    </tr>\n",
       "    <tr>\n",
       "      <th>3</th>\n",
       "      <td>41.469559</td>\n",
       "    </tr>\n",
       "    <tr>\n",
       "      <th>4</th>\n",
       "      <td>58.688195</td>\n",
       "    </tr>\n",
       "  </tbody>\n",
       "</table>\n",
       "</div>"
      ],
      "text/plain": [
       "        Data\n",
       "0  57.810801\n",
       "1  36.974870\n",
       "2  66.123763\n",
       "3  41.469559\n",
       "4  58.688195"
      ]
     },
     "execution_count": 94,
     "metadata": {},
     "output_type": "execute_result"
    }
   ],
   "source": [
    "df = pd.DataFrame(s, columns=['Data'])\n",
    "df.head()"
   ]
  },
  {
   "cell_type": "code",
   "execution_count": 95,
   "metadata": {},
   "outputs": [],
   "source": [
    "for col in df.columns:\n",
    "    col_zscore = col + '_zscore'\n",
    "    df[col_zscore] = (df[col] - df[col].mean())/df[col].std(ddof=1)"
   ]
  },
  {
   "cell_type": "code",
   "execution_count": 96,
   "metadata": {},
   "outputs": [
    {
     "data": {
      "text/html": [
       "<div>\n",
       "<style scoped>\n",
       "    .dataframe tbody tr th:only-of-type {\n",
       "        vertical-align: middle;\n",
       "    }\n",
       "\n",
       "    .dataframe tbody tr th {\n",
       "        vertical-align: top;\n",
       "    }\n",
       "\n",
       "    .dataframe thead th {\n",
       "        text-align: right;\n",
       "    }\n",
       "</style>\n",
       "<table border=\"1\" class=\"dataframe\">\n",
       "  <thead>\n",
       "    <tr style=\"text-align: right;\">\n",
       "      <th></th>\n",
       "      <th>Data</th>\n",
       "      <th>Data_zscore</th>\n",
       "    </tr>\n",
       "  </thead>\n",
       "  <tbody>\n",
       "    <tr>\n",
       "      <th>0</th>\n",
       "      <td>57.810801</td>\n",
       "      <td>0.316895</td>\n",
       "    </tr>\n",
       "    <tr>\n",
       "      <th>1</th>\n",
       "      <td>36.974870</td>\n",
       "      <td>-0.664520</td>\n",
       "    </tr>\n",
       "    <tr>\n",
       "      <th>2</th>\n",
       "      <td>66.123763</td>\n",
       "      <td>0.708452</td>\n",
       "    </tr>\n",
       "    <tr>\n",
       "      <th>3</th>\n",
       "      <td>41.469559</td>\n",
       "      <td>-0.452811</td>\n",
       "    </tr>\n",
       "    <tr>\n",
       "      <th>4</th>\n",
       "      <td>58.688195</td>\n",
       "      <td>0.358222</td>\n",
       "    </tr>\n",
       "  </tbody>\n",
       "</table>\n",
       "</div>"
      ],
      "text/plain": [
       "        Data  Data_zscore\n",
       "0  57.810801     0.316895\n",
       "1  36.974870    -0.664520\n",
       "2  66.123763     0.708452\n",
       "3  41.469559    -0.452811\n",
       "4  58.688195     0.358222"
      ]
     },
     "execution_count": 96,
     "metadata": {},
     "output_type": "execute_result"
    }
   ],
   "source": [
    "df.head()"
   ]
  },
  {
   "cell_type": "code",
   "execution_count": 97,
   "metadata": {},
   "outputs": [
    {
     "data": {
      "text/plain": [
       "(21.23052042099171, 51.08296497598528)"
      ]
     },
     "execution_count": 97,
     "metadata": {},
     "output_type": "execute_result"
    }
   ],
   "source": [
    "df[col].std(ddof=1), df[col].mean()"
   ]
  },
  {
   "cell_type": "code",
   "execution_count": 98,
   "metadata": {},
   "outputs": [],
   "source": [
    "df['outlier'] = (abs(df[col]-df[col].mean()) > 2*df[col].std(ddof=0)).astype(int)"
   ]
  },
  {
   "cell_type": "code",
   "execution_count": 99,
   "metadata": {},
   "outputs": [
    {
     "data": {
      "text/html": [
       "<div>\n",
       "<style scoped>\n",
       "    .dataframe tbody tr th:only-of-type {\n",
       "        vertical-align: middle;\n",
       "    }\n",
       "\n",
       "    .dataframe tbody tr th {\n",
       "        vertical-align: top;\n",
       "    }\n",
       "\n",
       "    .dataframe thead th {\n",
       "        text-align: right;\n",
       "    }\n",
       "</style>\n",
       "<table border=\"1\" class=\"dataframe\">\n",
       "  <thead>\n",
       "    <tr style=\"text-align: right;\">\n",
       "      <th></th>\n",
       "      <th>Data</th>\n",
       "      <th>Data_zscore</th>\n",
       "      <th>outlier</th>\n",
       "    </tr>\n",
       "  </thead>\n",
       "  <tbody>\n",
       "    <tr>\n",
       "      <th>95</th>\n",
       "      <td>61.815680</td>\n",
       "      <td>0.505532</td>\n",
       "      <td>0</td>\n",
       "    </tr>\n",
       "    <tr>\n",
       "      <th>96</th>\n",
       "      <td>55.045274</td>\n",
       "      <td>0.186633</td>\n",
       "      <td>0</td>\n",
       "    </tr>\n",
       "    <tr>\n",
       "      <th>97</th>\n",
       "      <td>51.115435</td>\n",
       "      <td>0.001529</td>\n",
       "      <td>0</td>\n",
       "    </tr>\n",
       "    <tr>\n",
       "      <th>98</th>\n",
       "      <td>57.627640</td>\n",
       "      <td>0.308267</td>\n",
       "      <td>0</td>\n",
       "    </tr>\n",
       "    <tr>\n",
       "      <th>99</th>\n",
       "      <td>64.946180</td>\n",
       "      <td>0.652985</td>\n",
       "      <td>0</td>\n",
       "    </tr>\n",
       "  </tbody>\n",
       "</table>\n",
       "</div>"
      ],
      "text/plain": [
       "         Data  Data_zscore  outlier\n",
       "95  61.815680     0.505532        0\n",
       "96  55.045274     0.186633        0\n",
       "97  51.115435     0.001529        0\n",
       "98  57.627640     0.308267        0\n",
       "99  64.946180     0.652985        0"
      ]
     },
     "execution_count": 99,
     "metadata": {},
     "output_type": "execute_result"
    }
   ],
   "source": [
    "df.tail()"
   ]
  },
  {
   "cell_type": "code",
   "execution_count": 100,
   "metadata": {},
   "outputs": [
    {
     "data": {
      "text/html": [
       "<div>\n",
       "<style scoped>\n",
       "    .dataframe tbody tr th:only-of-type {\n",
       "        vertical-align: middle;\n",
       "    }\n",
       "\n",
       "    .dataframe tbody tr th {\n",
       "        vertical-align: top;\n",
       "    }\n",
       "\n",
       "    .dataframe thead th {\n",
       "        text-align: right;\n",
       "    }\n",
       "</style>\n",
       "<table border=\"1\" class=\"dataframe\">\n",
       "  <thead>\n",
       "    <tr style=\"text-align: right;\">\n",
       "      <th></th>\n",
       "      <th>Data</th>\n",
       "      <th>Data_zscore</th>\n",
       "      <th>outlier</th>\n",
       "    </tr>\n",
       "  </thead>\n",
       "  <tbody>\n",
       "    <tr>\n",
       "      <th>15</th>\n",
       "      <td>-120.0</td>\n",
       "      <td>-8.05835</td>\n",
       "      <td>1</td>\n",
       "    </tr>\n",
       "    <tr>\n",
       "      <th>85</th>\n",
       "      <td>120.0</td>\n",
       "      <td>3.24613</td>\n",
       "      <td>1</td>\n",
       "    </tr>\n",
       "  </tbody>\n",
       "</table>\n",
       "</div>"
      ],
      "text/plain": [
       "     Data  Data_zscore  outlier\n",
       "15 -120.0     -8.05835        1\n",
       "85  120.0      3.24613        1"
      ]
     },
     "execution_count": 100,
     "metadata": {},
     "output_type": "execute_result"
    }
   ],
   "source": [
    "df[df['outlier'] == 1]"
   ]
  },
  {
   "cell_type": "code",
   "execution_count": 101,
   "metadata": {},
   "outputs": [],
   "source": [
    "df.std?"
   ]
  },
  {
   "cell_type": "code",
   "execution_count": 103,
   "metadata": {},
   "outputs": [
    {
     "name": "stdout",
     "output_type": "stream",
     "text": [
      "Number of outliers is 2\n"
     ]
    }
   ],
   "source": [
    "print('Number of outliers is', df.outlier.value_counts()[1])"
   ]
  },
  {
   "cell_type": "code",
   "execution_count": 104,
   "metadata": {},
   "outputs": [],
   "source": [
    "ndtr?"
   ]
  },
  {
   "cell_type": "code",
   "execution_count": 111,
   "metadata": {},
   "outputs": [],
   "source": [
    "df['Data_p_value'] = 1 - ndtr(abs(df['Data_zscore']))"
   ]
  },
  {
   "cell_type": "code",
   "execution_count": 112,
   "metadata": {},
   "outputs": [],
   "source": [
    "# ndtr([-2, 3 , 7]), ndtr(1), ndtr(0), ndtr(-1)"
   ]
  },
  {
   "cell_type": "code",
   "execution_count": 113,
   "metadata": {},
   "outputs": [
    {
     "data": {
      "text/html": [
       "<div>\n",
       "<style scoped>\n",
       "    .dataframe tbody tr th:only-of-type {\n",
       "        vertical-align: middle;\n",
       "    }\n",
       "\n",
       "    .dataframe tbody tr th {\n",
       "        vertical-align: top;\n",
       "    }\n",
       "\n",
       "    .dataframe thead th {\n",
       "        text-align: right;\n",
       "    }\n",
       "</style>\n",
       "<table border=\"1\" class=\"dataframe\">\n",
       "  <thead>\n",
       "    <tr style=\"text-align: right;\">\n",
       "      <th></th>\n",
       "      <th>Data</th>\n",
       "      <th>Data_zscore</th>\n",
       "      <th>outlier</th>\n",
       "      <th>Data_p_value</th>\n",
       "    </tr>\n",
       "  </thead>\n",
       "  <tbody>\n",
       "    <tr>\n",
       "      <th>0</th>\n",
       "      <td>57.810801</td>\n",
       "      <td>0.316895</td>\n",
       "      <td>0</td>\n",
       "      <td>3.756618e-01</td>\n",
       "    </tr>\n",
       "    <tr>\n",
       "      <th>1</th>\n",
       "      <td>36.974870</td>\n",
       "      <td>-0.664520</td>\n",
       "      <td>0</td>\n",
       "      <td>2.531789e-01</td>\n",
       "    </tr>\n",
       "    <tr>\n",
       "      <th>2</th>\n",
       "      <td>66.123763</td>\n",
       "      <td>0.708452</td>\n",
       "      <td>0</td>\n",
       "      <td>2.393324e-01</td>\n",
       "    </tr>\n",
       "    <tr>\n",
       "      <th>3</th>\n",
       "      <td>41.469559</td>\n",
       "      <td>-0.452811</td>\n",
       "      <td>0</td>\n",
       "      <td>3.253425e-01</td>\n",
       "    </tr>\n",
       "    <tr>\n",
       "      <th>4</th>\n",
       "      <td>58.688195</td>\n",
       "      <td>0.358222</td>\n",
       "      <td>0</td>\n",
       "      <td>3.600888e-01</td>\n",
       "    </tr>\n",
       "    <tr>\n",
       "      <th>5</th>\n",
       "      <td>54.461835</td>\n",
       "      <td>0.159152</td>\n",
       "      <td>0</td>\n",
       "      <td>4.367747e-01</td>\n",
       "    </tr>\n",
       "    <tr>\n",
       "      <th>6</th>\n",
       "      <td>50.989179</td>\n",
       "      <td>-0.004418</td>\n",
       "      <td>0</td>\n",
       "      <td>4.982377e-01</td>\n",
       "    </tr>\n",
       "    <tr>\n",
       "      <th>7</th>\n",
       "      <td>52.893272</td>\n",
       "      <td>0.085269</td>\n",
       "      <td>0</td>\n",
       "      <td>4.660237e-01</td>\n",
       "    </tr>\n",
       "    <tr>\n",
       "      <th>8</th>\n",
       "      <td>42.430905</td>\n",
       "      <td>-0.407529</td>\n",
       "      <td>0</td>\n",
       "      <td>3.418096e-01</td>\n",
       "    </tr>\n",
       "    <tr>\n",
       "      <th>9</th>\n",
       "      <td>48.393477</td>\n",
       "      <td>-0.126680</td>\n",
       "      <td>0</td>\n",
       "      <td>4.495967e-01</td>\n",
       "    </tr>\n",
       "    <tr>\n",
       "      <th>10</th>\n",
       "      <td>69.246890</td>\n",
       "      <td>0.855557</td>\n",
       "      <td>0</td>\n",
       "      <td>1.961214e-01</td>\n",
       "    </tr>\n",
       "    <tr>\n",
       "      <th>11</th>\n",
       "      <td>45.286931</td>\n",
       "      <td>-0.273005</td>\n",
       "      <td>0</td>\n",
       "      <td>3.924248e-01</td>\n",
       "    </tr>\n",
       "    <tr>\n",
       "      <th>12</th>\n",
       "      <td>53.440901</td>\n",
       "      <td>0.111064</td>\n",
       "      <td>0</td>\n",
       "      <td>4.557830e-01</td>\n",
       "    </tr>\n",
       "    <tr>\n",
       "      <th>13</th>\n",
       "      <td>47.722832</td>\n",
       "      <td>-0.158269</td>\n",
       "      <td>0</td>\n",
       "      <td>4.371224e-01</td>\n",
       "    </tr>\n",
       "    <tr>\n",
       "      <th>14</th>\n",
       "      <td>59.521804</td>\n",
       "      <td>0.397486</td>\n",
       "      <td>0</td>\n",
       "      <td>3.455045e-01</td>\n",
       "    </tr>\n",
       "    <tr>\n",
       "      <th>15</th>\n",
       "      <td>-120.000000</td>\n",
       "      <td>-8.058350</td>\n",
       "      <td>1</td>\n",
       "      <td>3.330669e-16</td>\n",
       "    </tr>\n",
       "    <tr>\n",
       "      <th>16</th>\n",
       "      <td>49.825924</td>\n",
       "      <td>-0.059209</td>\n",
       "      <td>0</td>\n",
       "      <td>4.763928e-01</td>\n",
       "    </tr>\n",
       "    <tr>\n",
       "      <th>17</th>\n",
       "      <td>73.061980</td>\n",
       "      <td>1.035256</td>\n",
       "      <td>0</td>\n",
       "      <td>1.502748e-01</td>\n",
       "    </tr>\n",
       "    <tr>\n",
       "      <th>18</th>\n",
       "      <td>65.275168</td>\n",
       "      <td>0.668481</td>\n",
       "      <td>0</td>\n",
       "      <td>2.519132e-01</td>\n",
       "    </tr>\n",
       "    <tr>\n",
       "      <th>19</th>\n",
       "      <td>33.417835</td>\n",
       "      <td>-0.832063</td>\n",
       "      <td>0</td>\n",
       "      <td>2.026867e-01</td>\n",
       "    </tr>\n",
       "    <tr>\n",
       "      <th>20</th>\n",
       "      <td>29.341243</td>\n",
       "      <td>-1.024079</td>\n",
       "      <td>0</td>\n",
       "      <td>1.528991e-01</td>\n",
       "    </tr>\n",
       "    <tr>\n",
       "      <th>21</th>\n",
       "      <td>54.365276</td>\n",
       "      <td>0.154603</td>\n",
       "      <td>0</td>\n",
       "      <td>4.385670e-01</td>\n",
       "    </tr>\n",
       "    <tr>\n",
       "      <th>22</th>\n",
       "      <td>47.479782</td>\n",
       "      <td>-0.169717</td>\n",
       "      <td>0</td>\n",
       "      <td>4.326163e-01</td>\n",
       "    </tr>\n",
       "    <tr>\n",
       "      <th>23</th>\n",
       "      <td>31.098000</td>\n",
       "      <td>-0.941332</td>\n",
       "      <td>0</td>\n",
       "      <td>1.732674e-01</td>\n",
       "    </tr>\n",
       "    <tr>\n",
       "      <th>24</th>\n",
       "      <td>55.083556</td>\n",
       "      <td>0.188436</td>\n",
       "      <td>0</td>\n",
       "      <td>4.252675e-01</td>\n",
       "    </tr>\n",
       "    <tr>\n",
       "      <th>25</th>\n",
       "      <td>47.335949</td>\n",
       "      <td>-0.176492</td>\n",
       "      <td>0</td>\n",
       "      <td>4.299537e-01</td>\n",
       "    </tr>\n",
       "    <tr>\n",
       "      <th>26</th>\n",
       "      <td>59.771686</td>\n",
       "      <td>0.409256</td>\n",
       "      <td>0</td>\n",
       "      <td>3.411758e-01</td>\n",
       "    </tr>\n",
       "    <tr>\n",
       "      <th>27</th>\n",
       "      <td>60.382720</td>\n",
       "      <td>0.438037</td>\n",
       "      <td>0</td>\n",
       "      <td>3.306797e-01</td>\n",
       "    </tr>\n",
       "    <tr>\n",
       "      <th>28</th>\n",
       "      <td>56.388151</td>\n",
       "      <td>0.249885</td>\n",
       "      <td>0</td>\n",
       "      <td>4.013382e-01</td>\n",
       "    </tr>\n",
       "    <tr>\n",
       "      <th>29</th>\n",
       "      <td>67.571656</td>\n",
       "      <td>0.776650</td>\n",
       "      <td>0</td>\n",
       "      <td>2.186826e-01</td>\n",
       "    </tr>\n",
       "    <tr>\n",
       "      <th>...</th>\n",
       "      <td>...</td>\n",
       "      <td>...</td>\n",
       "      <td>...</td>\n",
       "      <td>...</td>\n",
       "    </tr>\n",
       "    <tr>\n",
       "      <th>70</th>\n",
       "      <td>66.789183</td>\n",
       "      <td>0.739794</td>\n",
       "      <td>0</td>\n",
       "      <td>2.297124e-01</td>\n",
       "    </tr>\n",
       "    <tr>\n",
       "      <th>71</th>\n",
       "      <td>55.910935</td>\n",
       "      <td>0.227407</td>\n",
       "      <td>0</td>\n",
       "      <td>4.100536e-01</td>\n",
       "    </tr>\n",
       "    <tr>\n",
       "      <th>72</th>\n",
       "      <td>46.531849</td>\n",
       "      <td>-0.214367</td>\n",
       "      <td>0</td>\n",
       "      <td>4.151306e-01</td>\n",
       "    </tr>\n",
       "    <tr>\n",
       "      <th>73</th>\n",
       "      <td>49.257167</td>\n",
       "      <td>-0.085999</td>\n",
       "      <td>0</td>\n",
       "      <td>4.657337e-01</td>\n",
       "    </tr>\n",
       "    <tr>\n",
       "      <th>74</th>\n",
       "      <td>64.392330</td>\n",
       "      <td>0.626898</td>\n",
       "      <td>0</td>\n",
       "      <td>2.653631e-01</td>\n",
       "    </tr>\n",
       "    <tr>\n",
       "      <th>75</th>\n",
       "      <td>44.139676</td>\n",
       "      <td>-0.327043</td>\n",
       "      <td>0</td>\n",
       "      <td>3.718177e-01</td>\n",
       "    </tr>\n",
       "    <tr>\n",
       "      <th>76</th>\n",
       "      <td>38.894231</td>\n",
       "      <td>-0.574114</td>\n",
       "      <td>0</td>\n",
       "      <td>2.829454e-01</td>\n",
       "    </tr>\n",
       "    <tr>\n",
       "      <th>77</th>\n",
       "      <td>49.764973</td>\n",
       "      <td>-0.062080</td>\n",
       "      <td>0</td>\n",
       "      <td>4.752495e-01</td>\n",
       "    </tr>\n",
       "    <tr>\n",
       "      <th>78</th>\n",
       "      <td>39.248827</td>\n",
       "      <td>-0.557412</td>\n",
       "      <td>0</td>\n",
       "      <td>2.886231e-01</td>\n",
       "    </tr>\n",
       "    <tr>\n",
       "      <th>79</th>\n",
       "      <td>45.452568</td>\n",
       "      <td>-0.265203</td>\n",
       "      <td>0</td>\n",
       "      <td>3.954266e-01</td>\n",
       "    </tr>\n",
       "    <tr>\n",
       "      <th>80</th>\n",
       "      <td>51.154425</td>\n",
       "      <td>0.003366</td>\n",
       "      <td>0</td>\n",
       "      <td>4.986572e-01</td>\n",
       "    </tr>\n",
       "    <tr>\n",
       "      <th>81</th>\n",
       "      <td>44.375580</td>\n",
       "      <td>-0.315931</td>\n",
       "      <td>0</td>\n",
       "      <td>3.760273e-01</td>\n",
       "    </tr>\n",
       "    <tr>\n",
       "      <th>82</th>\n",
       "      <td>45.179503</td>\n",
       "      <td>-0.278065</td>\n",
       "      <td>0</td>\n",
       "      <td>3.904813e-01</td>\n",
       "    </tr>\n",
       "    <tr>\n",
       "      <th>83</th>\n",
       "      <td>43.692276</td>\n",
       "      <td>-0.348116</td>\n",
       "      <td>0</td>\n",
       "      <td>3.638764e-01</td>\n",
       "    </tr>\n",
       "    <tr>\n",
       "      <th>84</th>\n",
       "      <td>29.782591</td>\n",
       "      <td>-1.003290</td>\n",
       "      <td>0</td>\n",
       "      <td>1.578604e-01</td>\n",
       "    </tr>\n",
       "    <tr>\n",
       "      <th>85</th>\n",
       "      <td>120.000000</td>\n",
       "      <td>3.246130</td>\n",
       "      <td>1</td>\n",
       "      <td>5.849265e-04</td>\n",
       "    </tr>\n",
       "    <tr>\n",
       "      <th>86</th>\n",
       "      <td>55.928645</td>\n",
       "      <td>0.228241</td>\n",
       "      <td>0</td>\n",
       "      <td>4.097294e-01</td>\n",
       "    </tr>\n",
       "    <tr>\n",
       "      <th>87</th>\n",
       "      <td>50.915154</td>\n",
       "      <td>-0.007904</td>\n",
       "      <td>0</td>\n",
       "      <td>4.968467e-01</td>\n",
       "    </tr>\n",
       "    <tr>\n",
       "      <th>88</th>\n",
       "      <td>55.226885</td>\n",
       "      <td>0.195187</td>\n",
       "      <td>0</td>\n",
       "      <td>4.226233e-01</td>\n",
       "    </tr>\n",
       "    <tr>\n",
       "      <th>89</th>\n",
       "      <td>55.028231</td>\n",
       "      <td>0.185830</td>\n",
       "      <td>0</td>\n",
       "      <td>4.262891e-01</td>\n",
       "    </tr>\n",
       "    <tr>\n",
       "      <th>90</th>\n",
       "      <td>64.520762</td>\n",
       "      <td>0.632947</td>\n",
       "      <td>0</td>\n",
       "      <td>2.633841e-01</td>\n",
       "    </tr>\n",
       "    <tr>\n",
       "      <th>91</th>\n",
       "      <td>50.218708</td>\n",
       "      <td>-0.040708</td>\n",
       "      <td>0</td>\n",
       "      <td>4.837643e-01</td>\n",
       "    </tr>\n",
       "    <tr>\n",
       "      <th>92</th>\n",
       "      <td>48.413747</td>\n",
       "      <td>-0.125726</td>\n",
       "      <td>0</td>\n",
       "      <td>4.499746e-01</td>\n",
       "    </tr>\n",
       "    <tr>\n",
       "      <th>93</th>\n",
       "      <td>58.976471</td>\n",
       "      <td>0.371800</td>\n",
       "      <td>0</td>\n",
       "      <td>3.550209e-01</td>\n",
       "    </tr>\n",
       "    <tr>\n",
       "      <th>94</th>\n",
       "      <td>28.560414</td>\n",
       "      <td>-1.060857</td>\n",
       "      <td>0</td>\n",
       "      <td>1.443774e-01</td>\n",
       "    </tr>\n",
       "    <tr>\n",
       "      <th>95</th>\n",
       "      <td>61.815680</td>\n",
       "      <td>0.505532</td>\n",
       "      <td>0</td>\n",
       "      <td>3.065925e-01</td>\n",
       "    </tr>\n",
       "    <tr>\n",
       "      <th>96</th>\n",
       "      <td>55.045274</td>\n",
       "      <td>0.186633</td>\n",
       "      <td>0</td>\n",
       "      <td>4.259743e-01</td>\n",
       "    </tr>\n",
       "    <tr>\n",
       "      <th>97</th>\n",
       "      <td>51.115435</td>\n",
       "      <td>0.001529</td>\n",
       "      <td>0</td>\n",
       "      <td>4.993899e-01</td>\n",
       "    </tr>\n",
       "    <tr>\n",
       "      <th>98</th>\n",
       "      <td>57.627640</td>\n",
       "      <td>0.308267</td>\n",
       "      <td>0</td>\n",
       "      <td>3.789395e-01</td>\n",
       "    </tr>\n",
       "    <tr>\n",
       "      <th>99</th>\n",
       "      <td>64.946180</td>\n",
       "      <td>0.652985</td>\n",
       "      <td>0</td>\n",
       "      <td>2.568829e-01</td>\n",
       "    </tr>\n",
       "  </tbody>\n",
       "</table>\n",
       "<p>100 rows × 4 columns</p>\n",
       "</div>"
      ],
      "text/plain": [
       "          Data  Data_zscore  outlier  Data_p_value\n",
       "0    57.810801     0.316895        0  3.756618e-01\n",
       "1    36.974870    -0.664520        0  2.531789e-01\n",
       "2    66.123763     0.708452        0  2.393324e-01\n",
       "3    41.469559    -0.452811        0  3.253425e-01\n",
       "4    58.688195     0.358222        0  3.600888e-01\n",
       "5    54.461835     0.159152        0  4.367747e-01\n",
       "6    50.989179    -0.004418        0  4.982377e-01\n",
       "7    52.893272     0.085269        0  4.660237e-01\n",
       "8    42.430905    -0.407529        0  3.418096e-01\n",
       "9    48.393477    -0.126680        0  4.495967e-01\n",
       "10   69.246890     0.855557        0  1.961214e-01\n",
       "11   45.286931    -0.273005        0  3.924248e-01\n",
       "12   53.440901     0.111064        0  4.557830e-01\n",
       "13   47.722832    -0.158269        0  4.371224e-01\n",
       "14   59.521804     0.397486        0  3.455045e-01\n",
       "15 -120.000000    -8.058350        1  3.330669e-16\n",
       "16   49.825924    -0.059209        0  4.763928e-01\n",
       "17   73.061980     1.035256        0  1.502748e-01\n",
       "18   65.275168     0.668481        0  2.519132e-01\n",
       "19   33.417835    -0.832063        0  2.026867e-01\n",
       "20   29.341243    -1.024079        0  1.528991e-01\n",
       "21   54.365276     0.154603        0  4.385670e-01\n",
       "22   47.479782    -0.169717        0  4.326163e-01\n",
       "23   31.098000    -0.941332        0  1.732674e-01\n",
       "24   55.083556     0.188436        0  4.252675e-01\n",
       "25   47.335949    -0.176492        0  4.299537e-01\n",
       "26   59.771686     0.409256        0  3.411758e-01\n",
       "27   60.382720     0.438037        0  3.306797e-01\n",
       "28   56.388151     0.249885        0  4.013382e-01\n",
       "29   67.571656     0.776650        0  2.186826e-01\n",
       "..         ...          ...      ...           ...\n",
       "70   66.789183     0.739794        0  2.297124e-01\n",
       "71   55.910935     0.227407        0  4.100536e-01\n",
       "72   46.531849    -0.214367        0  4.151306e-01\n",
       "73   49.257167    -0.085999        0  4.657337e-01\n",
       "74   64.392330     0.626898        0  2.653631e-01\n",
       "75   44.139676    -0.327043        0  3.718177e-01\n",
       "76   38.894231    -0.574114        0  2.829454e-01\n",
       "77   49.764973    -0.062080        0  4.752495e-01\n",
       "78   39.248827    -0.557412        0  2.886231e-01\n",
       "79   45.452568    -0.265203        0  3.954266e-01\n",
       "80   51.154425     0.003366        0  4.986572e-01\n",
       "81   44.375580    -0.315931        0  3.760273e-01\n",
       "82   45.179503    -0.278065        0  3.904813e-01\n",
       "83   43.692276    -0.348116        0  3.638764e-01\n",
       "84   29.782591    -1.003290        0  1.578604e-01\n",
       "85  120.000000     3.246130        1  5.849265e-04\n",
       "86   55.928645     0.228241        0  4.097294e-01\n",
       "87   50.915154    -0.007904        0  4.968467e-01\n",
       "88   55.226885     0.195187        0  4.226233e-01\n",
       "89   55.028231     0.185830        0  4.262891e-01\n",
       "90   64.520762     0.632947        0  2.633841e-01\n",
       "91   50.218708    -0.040708        0  4.837643e-01\n",
       "92   48.413747    -0.125726        0  4.499746e-01\n",
       "93   58.976471     0.371800        0  3.550209e-01\n",
       "94   28.560414    -1.060857        0  1.443774e-01\n",
       "95   61.815680     0.505532        0  3.065925e-01\n",
       "96   55.045274     0.186633        0  4.259743e-01\n",
       "97   51.115435     0.001529        0  4.993899e-01\n",
       "98   57.627640     0.308267        0  3.789395e-01\n",
       "99   64.946180     0.652985        0  2.568829e-01\n",
       "\n",
       "[100 rows x 4 columns]"
      ]
     },
     "execution_count": 113,
     "metadata": {},
     "output_type": "execute_result"
    }
   ],
   "source": [
    "df"
   ]
  },
  {
   "cell_type": "code",
   "execution_count": 114,
   "metadata": {},
   "outputs": [],
   "source": [
    "alpha = 0.025 # two tails test"
   ]
  },
  {
   "cell_type": "code",
   "execution_count": 115,
   "metadata": {},
   "outputs": [],
   "source": [
    "df['stat_signigicant'] = (df['Data_p_value'] > alpha).astype(int)"
   ]
  },
  {
   "cell_type": "code",
   "execution_count": 117,
   "metadata": {},
   "outputs": [
    {
     "data": {
      "text/html": [
       "<div>\n",
       "<style scoped>\n",
       "    .dataframe tbody tr th:only-of-type {\n",
       "        vertical-align: middle;\n",
       "    }\n",
       "\n",
       "    .dataframe tbody tr th {\n",
       "        vertical-align: top;\n",
       "    }\n",
       "\n",
       "    .dataframe thead th {\n",
       "        text-align: right;\n",
       "    }\n",
       "</style>\n",
       "<table border=\"1\" class=\"dataframe\">\n",
       "  <thead>\n",
       "    <tr style=\"text-align: right;\">\n",
       "      <th></th>\n",
       "      <th>Data</th>\n",
       "      <th>Data_zscore</th>\n",
       "      <th>outlier</th>\n",
       "      <th>Data_p_value</th>\n",
       "      <th>stat_signigicant</th>\n",
       "    </tr>\n",
       "  </thead>\n",
       "  <tbody>\n",
       "    <tr>\n",
       "      <th>15</th>\n",
       "      <td>-120.0</td>\n",
       "      <td>-8.05835</td>\n",
       "      <td>1</td>\n",
       "      <td>3.330669e-16</td>\n",
       "      <td>0</td>\n",
       "    </tr>\n",
       "    <tr>\n",
       "      <th>85</th>\n",
       "      <td>120.0</td>\n",
       "      <td>3.24613</td>\n",
       "      <td>1</td>\n",
       "      <td>5.849265e-04</td>\n",
       "      <td>0</td>\n",
       "    </tr>\n",
       "  </tbody>\n",
       "</table>\n",
       "</div>"
      ],
      "text/plain": [
       "     Data  Data_zscore  outlier  Data_p_value  stat_signigicant\n",
       "15 -120.0     -8.05835        1  3.330669e-16                 0\n",
       "85  120.0      3.24613        1  5.849265e-04                 0"
      ]
     },
     "execution_count": 117,
     "metadata": {},
     "output_type": "execute_result"
    }
   ],
   "source": [
    "df[df['stat_signigicant'] == 0]"
   ]
  },
  {
   "cell_type": "code",
   "execution_count": 119,
   "metadata": {},
   "outputs": [
    {
     "name": "stdout",
     "output_type": "stream",
     "text": [
      "Number of statistically not significant is 2\n"
     ]
    }
   ],
   "source": [
    "print('Number of statistically not significant is', df['stat_signigicant'].value_counts()[0])"
   ]
  },
  {
   "cell_type": "markdown",
   "metadata": {},
   "source": [
    "#### Calulate Z-score for normal distribution"
   ]
  },
  {
   "cell_type": "code",
   "execution_count": 3,
   "metadata": {},
   "outputs": [],
   "source": [
    "def z_score_proportion(p0, p_hat, n):\n",
    "    z = (p_hat - p0) / np.sqrt(p0*(1-p0)/n)\n",
    "    return z"
   ]
  },
  {
   "cell_type": "code",
   "execution_count": 67,
   "metadata": {
    "scrolled": true
   },
   "outputs": [
    {
     "data": {
      "text/plain": [
       "0.9070898896528004"
      ]
     },
     "execution_count": 67,
     "metadata": {},
     "output_type": "execute_result"
    }
   ],
   "source": [
    "z_score_proportion(p0=.157, p_hat=0.19, n=100)"
   ]
  },
  {
   "cell_type": "code",
   "execution_count": 131,
   "metadata": {
    "scrolled": true
   },
   "outputs": [
    {
     "data": {
      "text/plain": [
       "2.305827460539445"
      ]
     },
     "execution_count": 131,
     "metadata": {},
     "output_type": "execute_result"
    }
   ],
   "source": [
    "z_score_proportion(p0=.64, p_hat=0.675, n=1000)"
   ]
  },
  {
   "cell_type": "code",
   "execution_count": 132,
   "metadata": {
    "scrolled": true
   },
   "outputs": [
    {
     "data": {
      "text/plain": [
       "1.4048787173725423"
      ]
     },
     "execution_count": 132,
     "metadata": {},
     "output_type": "execute_result"
    }
   ],
   "source": [
    "z_score_proportion(p0=.24, p_hat=63/225, n=225)"
   ]
  },
  {
   "cell_type": "code",
   "execution_count": 135,
   "metadata": {},
   "outputs": [
    {
     "data": {
      "text/plain": [
       "-11.12781294140478"
      ]
     },
     "execution_count": 135,
     "metadata": {},
     "output_type": "execute_result"
    }
   ],
   "source": [
    "804/1304\n",
    "z_score_proportion(p0=.75, p_hat=0.6165644171779141, n=1304)"
   ]
  },
  {
   "cell_type": "code",
   "execution_count": 137,
   "metadata": {},
   "outputs": [
    {
     "data": {
      "text/plain": [
       "-2.2175896224144758"
      ]
     },
     "execution_count": 137,
     "metadata": {},
     "output_type": "execute_result"
    }
   ],
   "source": [
    "z_score_proportion(p0=.47, p_hat=435/1000, n=1000)"
   ]
  },
  {
   "cell_type": "code",
   "execution_count": 139,
   "metadata": {},
   "outputs": [
    {
     "data": {
      "text/plain": [
       "2.3717082451262868"
      ]
     },
     "execution_count": 139,
     "metadata": {},
     "output_type": "execute_result"
    }
   ],
   "source": [
    "z_score_proportion(p0=.60, p_hat=945/1500, n=1500)"
   ]
  },
  {
   "cell_type": "code",
   "execution_count": 140,
   "metadata": {},
   "outputs": [
    {
     "data": {
      "text/plain": [
       "-2.0000000000000004"
      ]
     },
     "execution_count": 140,
     "metadata": {},
     "output_type": "execute_result"
    }
   ],
   "source": [
    "z_score_proportion(p0=.20, p_hat=64/400, n=400)"
   ]
  },
  {
   "cell_type": "code",
   "execution_count": 141,
   "metadata": {},
   "outputs": [
    {
     "data": {
      "text/plain": [
       "0.022750131948179195"
      ]
     },
     "execution_count": 141,
     "metadata": {},
     "output_type": "execute_result"
    }
   ],
   "source": [
    "ndtr(-2)"
   ]
  },
  {
   "cell_type": "code",
   "execution_count": 143,
   "metadata": {},
   "outputs": [
    {
     "data": {
      "text/plain": [
       "0.1814112548917972"
      ]
     },
     "execution_count": 143,
     "metadata": {},
     "output_type": "execute_result"
    }
   ],
   "source": [
    "1 - ndtr(.91)"
   ]
  },
  {
   "cell_type": "code",
   "execution_count": 144,
   "metadata": {},
   "outputs": [
    {
     "data": {
      "text/plain": [
       "0.020888154123902103"
      ]
     },
     "execution_count": 144,
     "metadata": {},
     "output_type": "execute_result"
    }
   ],
   "source": [
    "2*(1-ndtr(2.31))"
   ]
  },
  {
   "cell_type": "code",
   "execution_count": null,
   "metadata": {},
   "outputs": [],
   "source": []
  },
  {
   "cell_type": "code",
   "execution_count": 145,
   "metadata": {
    "scrolled": false
   },
   "outputs": [
    {
     "data": {
      "text/plain": [
       "-1.2060453783110543"
      ]
     },
     "execution_count": 145,
     "metadata": {},
     "output_type": "execute_result"
    }
   ],
   "source": [
    "z_score_proportion(p0=.45, p_hat=.39, n=100)"
   ]
  },
  {
   "cell_type": "code",
   "execution_count": 147,
   "metadata": {},
   "outputs": [
    {
     "data": {
      "text/plain": [
       "0.11390006992452606"
      ]
     },
     "execution_count": 147,
     "metadata": {},
     "output_type": "execute_result"
    }
   ],
   "source": [
    "\n",
    "(ndtr(-1.206045))"
   ]
  },
  {
   "cell_type": "code",
   "execution_count": 149,
   "metadata": {
    "scrolled": false
   },
   "outputs": [
    {
     "data": {
      "text/plain": [
       "1.9786933463559648"
      ]
     },
     "execution_count": 149,
     "metadata": {},
     "output_type": "execute_result"
    }
   ],
   "source": [
    "z_score_proportion(p0=.55, p_hat=178/293, n=293)"
   ]
  },
  {
   "cell_type": "code",
   "execution_count": 151,
   "metadata": {
    "scrolled": true
   },
   "outputs": [
    {
     "data": {
      "text/plain": [
       "0.02392527127432642"
      ]
     },
     "execution_count": 151,
     "metadata": {},
     "output_type": "execute_result"
    }
   ],
   "source": [
    "(1-ndtr(1.9786933463559648))"
   ]
  },
  {
   "cell_type": "code",
   "execution_count": 152,
   "metadata": {},
   "outputs": [],
   "source": [
    "#We should reject the H0 hypothesis that p0=.55 and conclude that real p is higher"
   ]
  },
  {
   "cell_type": "code",
   "execution_count": 14,
   "metadata": {},
   "outputs": [
    {
     "data": {
      "text/plain": [
       "0.05590169943749474"
      ]
     },
     "execution_count": 14,
     "metadata": {},
     "output_type": "execute_result"
    }
   ],
   "source": [
    "np.sqrt(0.5*0.5/80)"
   ]
  },
  {
   "cell_type": "code",
   "execution_count": 16,
   "metadata": {},
   "outputs": [
    {
     "data": {
      "text/plain": [
       "0.6"
      ]
     },
     "execution_count": 16,
     "metadata": {},
     "output_type": "execute_result"
    }
   ],
   "source": [
    "\n",
    "48/80"
   ]
  },
  {
   "cell_type": "code",
   "execution_count": 13,
   "metadata": {
    "scrolled": true
   },
   "outputs": [
    {
     "data": {
      "text/plain": [
       "1.7888543819998315"
      ]
     },
     "execution_count": 13,
     "metadata": {},
     "output_type": "execute_result"
    }
   ],
   "source": [
    "z_score_proportion(p0=.5, p_hat=48/80, n=80)"
   ]
  },
  {
   "cell_type": "code",
   "execution_count": 11,
   "metadata": {
    "scrolled": false
   },
   "outputs": [
    {
     "data": {
      "text/plain": [
       "0.03854717246552644"
      ]
     },
     "execution_count": 11,
     "metadata": {},
     "output_type": "execute_result"
    }
   ],
   "source": [
    "(ndtr(-1.7678))"
   ]
  },
  {
   "cell_type": "code",
   "execution_count": 20,
   "metadata": {},
   "outputs": [
    {
     "data": {
      "text/plain": [
       "(0.08917260579025026, 0.16399195117177506)"
      ]
     },
     "execution_count": 20,
     "metadata": {},
     "output_type": "execute_result"
    }
   ],
   "source": [
    "(40/316)-2*np.sqrt((40/316)*(1-(40/316))/316), (40/316)+2*np.sqrt((40/316)*(1-(40/316))/316),"
   ]
  },
  {
   "cell_type": "code",
   "execution_count": 2,
   "metadata": {},
   "outputs": [],
   "source": [
    "def z_score_mean(m_mean, m_hat, sigma, n):\n",
    "    z_score = (m_hat - m_mean)/(sigma/np.sqrt(n))\n",
    "    return z_score"
   ]
  },
  {
   "cell_type": "code",
   "execution_count": 4,
   "metadata": {
    "scrolled": true
   },
   "outputs": [
    {
     "data": {
      "text/plain": [
       "-1.9749999999999979"
      ]
     },
     "execution_count": 4,
     "metadata": {},
     "output_type": "execute_result"
    }
   ],
   "source": [
    "\n",
    "a = z_score_mean(m_mean=266, sigma=16, n=25, m_hat=259.68)\n",
    "a"
   ]
  },
  {
   "cell_type": "code",
   "execution_count": 8,
   "metadata": {
    "scrolled": false
   },
   "outputs": [
    {
     "data": {
      "text/plain": [
       "0.247852490603659"
      ]
     },
     "execution_count": 8,
     "metadata": {},
     "output_type": "execute_result"
    }
   ],
   "source": [
    "1-ndtr(a)"
   ]
  },
  {
   "cell_type": "code",
   "execution_count": 6,
   "metadata": {
    "scrolled": false
   },
   "outputs": [
    {
     "data": {
      "text/plain": [
       "0.6812631731504272"
      ]
     },
     "execution_count": 6,
     "metadata": {},
     "output_type": "execute_result"
    }
   ],
   "source": [
    "a = z_score_mean(m_mean=20, sigma=4.7, n=71, m_hat=20.38)\n",
    "a"
   ]
  },
  {
   "cell_type": "code",
   "execution_count": 10,
   "metadata": {},
   "outputs": [],
   "source": [
    "l = stats.t(loc=0, scale=1, df=29)"
   ]
  },
  {
   "cell_type": "code",
   "execution_count": 11,
   "metadata": {},
   "outputs": [
    {
     "data": {
      "text/plain": [
       "-1.8328579974273842"
      ]
     },
     "execution_count": 11,
     "metadata": {},
     "output_type": "execute_result"
    }
   ],
   "source": [
    "z_score_mean(m_mean=4.73, n=75, sigma=3.78, m_hat=3.93)"
   ]
  }
 ],
 "metadata": {
  "kernelspec": {
   "display_name": "Python 3",
   "language": "python",
   "name": "python3"
  },
  "language_info": {
   "codemirror_mode": {
    "name": "ipython",
    "version": 3
   },
   "file_extension": ".py",
   "mimetype": "text/x-python",
   "name": "python",
   "nbconvert_exporter": "python",
   "pygments_lexer": "ipython3",
   "version": "3.7.1"
  }
 },
 "nbformat": 4,
 "nbformat_minor": 2
}
